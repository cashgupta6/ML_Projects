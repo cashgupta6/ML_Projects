{
  "nbformat": 4,
  "nbformat_minor": 0,
  "metadata": {
    "colab": {
      "name": "Untitled0.ipynb",
      "provenance": [],
      "collapsed_sections": []
    },
    "kernelspec": {
      "display_name": "Python 3",
      "name": "python3"
    },
    "language_info": {
      "name": "python"
    }
  },
  "cells": [
    {
      "cell_type": "code",
      "metadata": {
        "id": "L_aS9V_1NsDJ"
      },
      "source": [
        "from sklearn.datasets import fetch_openml\n",
        "import pandas as pd\n",
        "from sklearn.linear_model import LinearRegression\n",
        "from sklearn.linear_model import LogisticRegression\n",
        "from sklearn.model_selection import train_test_split\n",
        "import matplotlib\n",
        "import matplotlib.pyplot as plt\n",
        "%matplotlib inline"
      ],
      "execution_count": 178,
      "outputs": []
    },
    {
      "cell_type": "markdown",
      "metadata": {
        "id": "6uWdP8BykiIk"
      },
      "source": [
        "Fetch Dataset of images and digits."
      ]
    },
    {
      "cell_type": "code",
      "metadata": {
        "id": "Ft6-_RiTOhmT"
      },
      "source": [
        "mnist = fetch_openml('mnist_784')"
      ],
      "execution_count": 179,
      "outputs": []
    },
    {
      "cell_type": "markdown",
      "metadata": {
        "id": "eJ977ya9ktCr"
      },
      "source": [
        "Split the full dataset into Data and Target. Target contains the actual values of digits shown in images.Split dataset into Train and Test datasets\n"
      ]
    },
    {
      "cell_type": "code",
      "metadata": {
        "id": "9uiomdGfPEn9"
      },
      "source": [
        "x,y = mnist['data'], mnist['target']\n",
        "x_train, x_test, y_train, y_test = train_test_split(x,y, test_size = 0.2)"
      ],
      "execution_count": 180,
      "outputs": []
    },
    {
      "cell_type": "code",
      "metadata": {
        "colab": {
          "base_uri": "https://localhost:8080/"
        },
        "id": "U8-7lL0qkV6b",
        "outputId": "aa7fddf4-6210-4d55-d9f6-b93bf18e38f8"
      },
      "source": [
        "len(x_train)"
      ],
      "execution_count": 181,
      "outputs": [
        {
          "output_type": "execute_result",
          "data": {
            "text/plain": [
              "56000"
            ]
          },
          "metadata": {},
          "execution_count": 181
        }
      ]
    },
    {
      "cell_type": "code",
      "metadata": {
        "colab": {
          "base_uri": "https://localhost:8080/"
        },
        "id": "UzYB_ptbkY0l",
        "outputId": "156297b7-518f-465a-d80a-b68ad49d2912"
      },
      "source": [
        "len(x_test)"
      ],
      "execution_count": 182,
      "outputs": [
        {
          "output_type": "execute_result",
          "data": {
            "text/plain": [
              "14000"
            ]
          },
          "metadata": {},
          "execution_count": 182
        }
      ]
    },
    {
      "cell_type": "markdown",
      "metadata": {
        "id": "JW_KE1ZEk8zC"
      },
      "source": [
        "Funtion for checking the score values of different models applied."
      ]
    },
    {
      "cell_type": "code",
      "metadata": {
        "id": "v_GJdeY0TMbt"
      },
      "source": [
        "def check(model,x_train,y_train,x_test,y_test):\n",
        "  for model in model:\n",
        "    (model.fit(x_train, y_train))\n",
        "    print( model.score(x_test, y_test))"
      ],
      "execution_count": 183,
      "outputs": []
    },
    {
      "cell_type": "markdown",
      "metadata": {
        "id": "T-6c8C3YlJUs"
      },
      "source": [
        "making model and sending in function to find best model."
      ]
    },
    {
      "cell_type": "code",
      "metadata": {
        "colab": {
          "base_uri": "https://localhost:8080/"
        },
        "id": "RPgha2M5Qn49",
        "outputId": "fd7a5a04-62f5-4d88-92ca-061f166f4970"
      },
      "source": [
        "model = [LinearRegression(), LogisticRegression()]\n",
        "check(model,x_train,y_train,x_test,y_test)"
      ],
      "execution_count": 184,
      "outputs": [
        {
          "output_type": "stream",
          "name": "stdout",
          "text": [
            "-3.6934575652715024e+20\n",
            "0.9217857142857143\n"
          ]
        },
        {
          "output_type": "stream",
          "name": "stderr",
          "text": [
            "/usr/local/lib/python3.7/dist-packages/sklearn/linear_model/_logistic.py:940: ConvergenceWarning: lbfgs failed to converge (status=1):\n",
            "STOP: TOTAL NO. of ITERATIONS REACHED LIMIT.\n",
            "\n",
            "Increase the number of iterations (max_iter) or scale the data as shown in:\n",
            "    https://scikit-learn.org/stable/modules/preprocessing.html\n",
            "Please also refer to the documentation for alternative solver options:\n",
            "    https://scikit-learn.org/stable/modules/linear_model.html#logistic-regression\n",
            "  extra_warning_msg=_LOGISTIC_SOLVER_CONVERGENCE_MSG)\n"
          ]
        }
      ]
    },
    {
      "cell_type": "markdown",
      "metadata": {
        "id": "v2CJ-NKVlPZj"
      },
      "source": [
        "After finding the best model use it to train and fit the model."
      ]
    },
    {
      "cell_type": "code",
      "metadata": {
        "colab": {
          "base_uri": "https://localhost:8080/"
        },
        "id": "DxXuiijxjhwQ",
        "outputId": "c1408fed-e744-48a6-9b6c-7f46526bc0af"
      },
      "source": [
        "model = LogisticRegression()\n",
        "model.fit(x_train,y_train)"
      ],
      "execution_count": 185,
      "outputs": [
        {
          "output_type": "stream",
          "name": "stderr",
          "text": [
            "/usr/local/lib/python3.7/dist-packages/sklearn/linear_model/_logistic.py:940: ConvergenceWarning: lbfgs failed to converge (status=1):\n",
            "STOP: TOTAL NO. of ITERATIONS REACHED LIMIT.\n",
            "\n",
            "Increase the number of iterations (max_iter) or scale the data as shown in:\n",
            "    https://scikit-learn.org/stable/modules/preprocessing.html\n",
            "Please also refer to the documentation for alternative solver options:\n",
            "    https://scikit-learn.org/stable/modules/linear_model.html#logistic-regression\n",
            "  extra_warning_msg=_LOGISTIC_SOLVER_CONVERGENCE_MSG)\n"
          ]
        },
        {
          "output_type": "execute_result",
          "data": {
            "text/plain": [
              "LogisticRegression(C=1.0, class_weight=None, dual=False, fit_intercept=True,\n",
              "                   intercept_scaling=1, l1_ratio=None, max_iter=100,\n",
              "                   multi_class='auto', n_jobs=None, penalty='l2',\n",
              "                   random_state=None, solver='lbfgs', tol=0.0001, verbose=0,\n",
              "                   warm_start=False)"
            ]
          },
          "metadata": {},
          "execution_count": 185
        }
      ]
    },
    {
      "cell_type": "markdown",
      "metadata": {
        "id": "nFbvrHASlT37"
      },
      "source": [
        "Predict the value and check it with target images."
      ]
    },
    {
      "cell_type": "code",
      "metadata": {
        "colab": {
          "base_uri": "https://localhost:8080/",
          "height": 283
        },
        "id": "8EGZ0b6NRXTO",
        "outputId": "b36a172a-b373-4a80-cc25-5b8bb5594ff5"
      },
      "source": [
        "some = x[28890]\n",
        "image = some.reshape(28,28)\n",
        "plt.imshow(image,cmap = matplotlib.cm.binary, interpolation = 'nearest')\n",
        "model.predict([some])"
      ],
      "execution_count": 186,
      "outputs": [
        {
          "output_type": "execute_result",
          "data": {
            "text/plain": [
              "array(['6'], dtype=object)"
            ]
          },
          "metadata": {},
          "execution_count": 186
        },
        {
          "output_type": "display_data",
          "data": {
            "image/png": "[encoded data removed]",
            "text/plain": [
              "<Figure size 432x288 with 1 Axes>"
            ]
          },
          "metadata": {
            "needs_background": "light"
          }
        }
      ]
    }
  ]
}